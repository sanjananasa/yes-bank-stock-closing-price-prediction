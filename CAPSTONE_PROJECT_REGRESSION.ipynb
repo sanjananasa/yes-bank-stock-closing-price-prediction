{
  "nbformat": 4,
  "nbformat_minor": 0,
  "metadata": {
    "colab": {
      "private_outputs": true,
      "provenance": [],
      "collapsed_sections": [
        "vncDsAP0Gaoa",
        "O_i_v8NEhb9l",
        "HhfV-JJviCcP",
        "Y3lxredqlCYt",
        "3RnN4peoiCZX",
        "x71ZqKXriCWQ",
        "7hBIi_osiCS2",
        "JlHwYmJAmNHm",
        "35m5QtbWiB9F",
        "PoPl-ycgm1ru",
        "H0kj-8xxnORC",
        "nA9Y7ga8ng1Z",
        "dauF4eBmngu3"
      ]
    },
    "kernelspec": {
      "name": "python3",
      "display_name": "Python 3"
    },
    "language_info": {
      "name": "python"
    }
  },
  "cells": [
    {
      "cell_type": "markdown",
      "source": [
        "# **Project Name**    -\n",
        "#**YES BANK STOCK CLOSING PRICE PREDICTION**\n"
      ],
      "metadata": {
        "id": "vncDsAP0Gaoa"
      }
    },
    {
      "cell_type": "markdown",
      "source": [
        "#**Project Type**    - REGRESSION\n",
        "#**Contribution**    -Sanjana Nasa"
      ],
      "metadata": {
        "id": "beRrZCGUAJYm"
      }
    },
    {
      "cell_type": "markdown",
      "source": [
        "# **GitHub Link -**"
      ],
      "metadata": {
        "id": "w6K7xa23Elo4"
      }
    },
    {
      "cell_type": "markdown",
      "source": [
        "Provide your GitHub Link here."
      ],
      "metadata": {
        "id": "h1o69JH3Eqqn"
      }
    },
    {
      "cell_type": "markdown",
      "source": [
        "# **Problem Statement**\n"
      ],
      "metadata": {
        "id": "yQaldy8SH6Dl"
      }
    },
    {
      "cell_type": "markdown",
      "source": [
        "##Yes Bank is a well-known bank in the Indian financial domain. Since 2018, it has been in the news because of the fraud case involving Rana Kapoor. Owing to this fact, it was interesting to see how that impacted the stock prices of the company and whether Time series models or any other predictive models can do justice to such situations. This dataset has monthly stock prices of the bank since its inception and includes closing, starting, highest, and lowest stock prices of every month. The main objective is to predict the stock’s closing price of the month.\n",
        "\n"
      ],
      "metadata": {
        "id": "DpeJGUA3kjGy"
      }
    },
    {
      "cell_type": "markdown",
      "source": [
        "# ***Let's Begin !***"
      ],
      "metadata": {
        "id": "O_i_v8NEhb9l"
      }
    },
    {
      "cell_type": "markdown",
      "source": [
        "## ***1. Know Your Data***"
      ],
      "metadata": {
        "id": "HhfV-JJviCcP"
      }
    },
    {
      "cell_type": "markdown",
      "source": [
        "### Import Libraries"
      ],
      "metadata": {
        "id": "Y3lxredqlCYt"
      }
    },
    {
      "cell_type": "code",
      "source": [
        "# Import Libraries\n",
        "import pandas as pd\n",
        "import numpy as np\n",
        "import matplotlib.pyplot as plt\n",
        "import seaborn as sns\n"
      ],
      "metadata": {
        "id": "M8Vqi-pPk-HR"
      },
      "execution_count": null,
      "outputs": []
    },
    {
      "cell_type": "markdown",
      "source": [
        "### Dataset Loading"
      ],
      "metadata": {
        "id": "3RnN4peoiCZX"
      }
    },
    {
      "cell_type": "code",
      "source": [
        "from google.colab import drive\n",
        "drive.mount('/content/drive')"
      ],
      "metadata": {
        "id": "U9wVKntwx4By"
      },
      "execution_count": null,
      "outputs": []
    },
    {
      "cell_type": "code",
      "source": [
        "# Load Dataset\n",
        "path='/content/drive/MyDrive/data_YesBank_StockPrices.csv'\n",
        "data=pd.read_csv(path)\n"
      ],
      "metadata": {
        "id": "4CkvbW_SlZ_R"
      },
      "execution_count": null,
      "outputs": []
    },
    {
      "cell_type": "markdown",
      "source": [
        "### Dataset First View"
      ],
      "metadata": {
        "id": "x71ZqKXriCWQ"
      }
    },
    {
      "cell_type": "code",
      "source": [
        "# Dataset First Look\n",
        "data.head()"
      ],
      "metadata": {
        "id": "LWNFOSvLl09H"
      },
      "execution_count": null,
      "outputs": []
    },
    {
      "cell_type": "markdown",
      "source": [
        "### Dataset Rows & Columns count"
      ],
      "metadata": {
        "id": "7hBIi_osiCS2"
      }
    },
    {
      "cell_type": "code",
      "source": [
        "# Dataset Rows & Columns count\n",
        "rows=data.shape[0]\n",
        "columns=data.shape[1]\n",
        "print('rows:',rows)\n",
        "print('columns:',columns)"
      ],
      "metadata": {
        "id": "Kllu7SJgmLij"
      },
      "execution_count": null,
      "outputs": []
    },
    {
      "cell_type": "markdown",
      "source": [
        "### Dataset Information"
      ],
      "metadata": {
        "id": "JlHwYmJAmNHm"
      }
    },
    {
      "cell_type": "code",
      "source": [
        "# Dataset Info\n",
        "data.info()"
      ],
      "metadata": {
        "id": "e9hRXRi6meOf"
      },
      "execution_count": null,
      "outputs": []
    },
    {
      "cell_type": "markdown",
      "source": [
        "#### Duplicate Values"
      ],
      "metadata": {
        "id": "35m5QtbWiB9F"
      }
    },
    {
      "cell_type": "code",
      "source": [
        "# Dataset Duplicate Value Count\n",
        "data.duplicated().value_counts()"
      ],
      "metadata": {
        "id": "1sLdpKYkmox0"
      },
      "execution_count": null,
      "outputs": []
    },
    {
      "cell_type": "markdown",
      "source": [
        "there are no duplicate values in the data"
      ],
      "metadata": {
        "id": "ZCvZHtLrzate"
      }
    },
    {
      "cell_type": "markdown",
      "source": [
        "#### Missing Values/Null Values"
      ],
      "metadata": {
        "id": "PoPl-ycgm1ru"
      }
    },
    {
      "cell_type": "code",
      "source": [
        "# Missing Values/Null Values Count\n",
        "data.isnull().sum()"
      ],
      "metadata": {
        "id": "GgHWkxvamxVg"
      },
      "execution_count": null,
      "outputs": []
    },
    {
      "cell_type": "markdown",
      "source": [
        "there are no null values as well"
      ],
      "metadata": {
        "id": "AaFPbaMazldB"
      }
    },
    {
      "cell_type": "markdown",
      "source": [
        "### What did you know about your dataset?"
      ],
      "metadata": {
        "id": "H0kj-8xxnORC"
      }
    },
    {
      "cell_type": "markdown",
      "source": [
        "#so in the given dataset, we have following features:\n",
        "\n",
        "* **Date:** It denotes the month and year of the for a particular price.\n",
        "* **Open:** Open means the price at which a stock started trading that month.\n",
        "* **High:** refers to the maximum price that month.\n",
        "***Low:** refers to the minimum price that month.\n",
        "* **Close:** refers to the final trading price for that month\n",
        "\n"
      ],
      "metadata": {
        "id": "gfoNAAC-nUe_"
      }
    },
    {
      "cell_type": "markdown",
      "source": [
        "## ***2. Understanding Your Variables***"
      ],
      "metadata": {
        "id": "nA9Y7ga8ng1Z"
      }
    },
    {
      "cell_type": "code",
      "source": [
        "# Dataset Columns\n",
        "data.columns"
      ],
      "metadata": {
        "id": "j7xfkqrt5Ag5"
      },
      "execution_count": null,
      "outputs": []
    },
    {
      "cell_type": "code",
      "source": [
        "# Dataset Describe\n",
        "data.describe()"
      ],
      "metadata": {
        "id": "DnOaZdaE5Q5t"
      },
      "execution_count": null,
      "outputs": []
    },
    {
      "cell_type": "markdown",
      "source": [
        "## 3. ***Data Wrangling***"
      ],
      "metadata": {
        "id": "dauF4eBmngu3"
      }
    },
    {
      "cell_type": "code",
      "source": [
        "#converting \"Date\" to datetime YYYY-MM-DD\n",
        "from datetime import datetime\n",
        "data['Date'] = pd.to_datetime(data['Date'].apply(lambda x: datetime.strptime(x, '%b-%y')))"
      ],
      "metadata": {
        "id": "V5tWm4KI2CrY"
      },
      "execution_count": null,
      "outputs": []
    },
    {
      "cell_type": "code",
      "source": [
        "#checking the change\n",
        "data.head(2)"
      ],
      "metadata": {
        "id": "4Sepy2X12Y_A"
      },
      "execution_count": null,
      "outputs": []
    },
    {
      "cell_type": "code",
      "source": [
        "#setting 'Date' as index\n",
        "data=data.set_index('Date')"
      ],
      "metadata": {
        "id": "5V-GGAunhO64"
      },
      "execution_count": null,
      "outputs": []
    },
    {
      "cell_type": "code",
      "source": [
        "data.head(2)"
      ],
      "metadata": {
        "id": "g8Dqc4COmC88"
      },
      "execution_count": null,
      "outputs": []
    },
    {
      "cell_type": "markdown",
      "source": [
        "#**UNIVARIATE ANALYSIS**"
      ],
      "metadata": {
        "id": "LbyXE7I1olp8"
      }
    },
    {
      "cell_type": "markdown",
      "source": [
        "#Dependent variable (target variable i.e. \"Close\")"
      ],
      "metadata": {
        "id": "cV3XMAuy26OG"
      }
    },
    {
      "cell_type": "code",
      "source": [
        "#visualising distribution of 'Close'\n",
        "plt.figure(figsize=(9,6))\n",
        "sns.distplot(data['Close'])\n",
        "\n",
        "# Plotting the mean and the median.\n",
        "plt.axvline(data['Close'].mean(),color='green',linewidth=2)                            # axvline plots a vertical line at a value (mean in this case).\n",
        "plt.axvline(data['Close'].median(),color='red',linestyle='dashed',linewidth=1.5)\n",
        "plt.show()\n",
        "plt.show()"
      ],
      "metadata": {
        "id": "PrRHS0rthdA5"
      },
      "execution_count": null,
      "outputs": []
    },
    {
      "cell_type": "markdown",
      "source": [
        "#**CLOSING PRICE WITH DATE**"
      ],
      "metadata": {
        "id": "muj1YqYZol3D"
      }
    },
    {
      "cell_type": "code",
      "source": [
        "plt.figure(figsize=(12,7))\n",
        "data['Close'].plot(color = 'r')\n",
        "plt.grid(which='major', linestyle='-', linewidth='0.5', color='green')\n",
        "plt.grid(which='minor', linestyle=':', linewidth='0.5', color='green')\n",
        "plt.xlabel('Date')\n",
        "plt.ylabel('Closing Price')\n",
        "plt.title('Closing Price with Date')\n",
        "plt.show()"
      ],
      "metadata": {
        "id": "10LdM0MHolDX"
      },
      "execution_count": null,
      "outputs": []
    },
    {
      "cell_type": "markdown",
      "source": [
        "#We can see that the stock price is rising up until 2018 when the fraud case involving Rana Kapoor happened after which the stock price has had a sharp decline."
      ],
      "metadata": {
        "id": "7V7L8Cpyo4a_"
      }
    },
    {
      "cell_type": "markdown",
      "source": [
        "#Independent variables"
      ],
      "metadata": {
        "id": "xNah21XriVcU"
      }
    },
    {
      "cell_type": "code",
      "source": [
        "#list of independent variables\n",
        "features=data[['Open','High','Low']]\n",
        "print(features)"
      ],
      "metadata": {
        "id": "5gJD-S6fiZMn"
      },
      "execution_count": null,
      "outputs": []
    },
    {
      "cell_type": "code",
      "source": [
        "#plots for  each of the independent variables\n",
        "for var in features:\n",
        "  plt.figure(figsize=(10,4))\n",
        "  plt.subplot(1,2,1)\n",
        "  sns.distplot(data[var].dropna())\n",
        "\n",
        "  # Plotting the mean and the median.\n",
        "  plt.axvline(data[var].mean(),color='green',linewidth=2)                            # axvline plots a vertical line at a value (mean in this case).\n",
        "  plt.axvline(data[var].median(),color='red',linestyle='dashed',linewidth=1.5)\n",
        "\n",
        "  plt.subplot(1,2,2)\n",
        "  sns.boxplot(y=data[var])\n",
        "\n",
        "\n",
        "  plt.show()"
      ],
      "metadata": {
        "id": "X1xoUF3hix3F"
      },
      "execution_count": null,
      "outputs": []
    },
    {
      "cell_type": "markdown",
      "source": [
        "#From the above plots of both dependent and independent variables , we can observe that our data is skewed, owing to which we need to perform some transformations"
      ],
      "metadata": {
        "id": "7uwx6qGjlC6C"
      }
    },
    {
      "cell_type": "markdown",
      "source": [
        "#So, here i am going to do **log** transformation"
      ],
      "metadata": {
        "id": "WYPpnCQglYkv"
      }
    },
    {
      "cell_type": "code",
      "source": [
        "#target variable\n",
        "plt.figure(figsize=(9,6))\n",
        "sns.distplot(np.log10(data['Close']))\n",
        "# Plotting the mean and the median.\n",
        "plt.axvline(np.log10(data['Close']).mean(),color='green',linewidth=2)                            # axvline plots a vertical line at a value (mean in this case).\n",
        "plt.axvline(np.log10(data['Close']).median(),color='red',linestyle='dashed',linewidth=1.5)\n",
        "plt.show()"
      ],
      "metadata": {
        "id": "KF-djJhsoXsY"
      },
      "execution_count": null,
      "outputs": []
    },
    {
      "cell_type": "code",
      "source": [
        "#independent features\n",
        "for var in features:\n",
        "  plt.figure(figsize=(10,4))\n",
        "  plt.subplot(1,2,1)\n",
        "  sns.distplot(np.log10(data[var].dropna()))\n",
        "\n",
        "  # Plotting the mean and the median.\n",
        "  plt.axvline(np.log10(data[var]).mean(),color='green',linewidth=2)                            # axvline plots a vertical line at a value (mean in this case).\n",
        "  plt.axvline(np.log10(data[var]).median(),color='red',linestyle='dashed',linewidth=1.5)\n",
        "\n",
        "  plt.subplot(1,2,2)\n",
        "  sns.boxplot(y=np.log10(data[var]))"
      ],
      "metadata": {
        "id": "ZpGS7aNUotdC"
      },
      "execution_count": null,
      "outputs": []
    },
    {
      "cell_type": "markdown",
      "source": [
        "#After the log transformation, the data looks very similar to normal distribution.\n",
        "#The green line represents mean whereas the red line represents the median\n"
      ],
      "metadata": {
        "id": "8KMtduNOqmy_"
      }
    },
    {
      "cell_type": "markdown",
      "source": [
        "#**BIVARIATE ANALYSIS**"
      ],
      "metadata": {
        "id": "l5_HjWjSrBZS"
      }
    },
    {
      "cell_type": "code",
      "source": [
        "#plotting dependent variable against each independent variable (scatter plot) and also checking the correlation between them\n",
        "\n",
        "for var in features:\n",
        "  fig=plt.figure(figsize=(10,6))\n",
        "  ax=fig.gca()\n",
        "  correlation=data[var].corr(data[\"Close\"])\n",
        "  plt.scatter(x=data[var],y=data['Close'])\n",
        "\n",
        "  ax.set_title('closing Price - ' + var + ' correlation: ' + str(correlation))\n",
        "  plt.xlabel(var)\n",
        "  plt.ylabel(\"Closing price\")\n",
        "\n",
        "  z=np.polyfit(data[var],data['Close'],1)\n",
        "  y_hat=np.poly1d(z)(data[var])\n",
        "\n",
        "  plt.plot(data[var],y_hat,'red')\n",
        "\n"
      ],
      "metadata": {
        "id": "fOvMXm3MrVps"
      },
      "execution_count": null,
      "outputs": []
    },
    {
      "cell_type": "markdown",
      "source": [
        "#We can see that all of our independent variables are highly correlated to the dependent variable.\n",
        "\n",
        "#And the relationship between dependent and independent variables is linear in nature."
      ],
      "metadata": {
        "id": "qm2g5QlHxF-0"
      }
    },
    {
      "cell_type": "code",
      "source": [
        "#correlation plot\n",
        "plt.figure(figsize=(10,5))\n",
        "sns.heatmap(data.corr(), annot = True, cmap='coolwarm')\n",
        "plt.show()"
      ],
      "metadata": {
        "id": "5ED855LvxKR1"
      },
      "execution_count": null,
      "outputs": []
    },
    {
      "cell_type": "markdown",
      "source": [
        "#From the heatmap above, we can clearly see that there is a very high correlation between each pair of features in our dataset. While it is desirable for the dependent variable to be highly correlated with independent variables, the independent varibles should ideally not have high correlation with one another."
      ],
      "metadata": {
        "id": "2B5aSGFAyXdZ"
      }
    },
    {
      "cell_type": "markdown",
      "source": [
        "#** This gives rise to the problem of **multicollinearity** **"
      ],
      "metadata": {
        "id": "MaWPPFJJyb8G"
      }
    },
    {
      "cell_type": "code",
      "source": [
        "# Dealing with multicollinearity using VIF analysis.\n",
        "# Calculating VIF(Variation Inflation Factor) to see the correlation between independent variables\n",
        "\n",
        "from statsmodels.stats.outliers_influence import variance_inflation_factor\n",
        "\n",
        "def calc_vif(X):\n",
        "\n",
        "    # Calculating VIF\n",
        "    vif = pd.DataFrame()\n",
        "    vif[\"variables\"] = X.columns\n",
        "    vif[\"VIF\"] = [variance_inflation_factor(X.values, i) for i in range(X.shape[1])]\n",
        "\n",
        "    return(vif)"
      ],
      "metadata": {
        "id": "mVHPG7igyshe"
      },
      "execution_count": null,
      "outputs": []
    },
    {
      "cell_type": "code",
      "source": [
        "calc_vif(data[[i for i in data.describe().columns if i not in ['Date','Close']]])"
      ],
      "metadata": {
        "id": "QBI1eM6H2sst"
      },
      "execution_count": null,
      "outputs": []
    },
    {
      "cell_type": "markdown",
      "source": [
        "#As we can see the values of VIF factor are very high. However since the dataset is so small and has just 3 independent features, multicollinearity is unavoidable here as any feature engineering will lead to loss of information."
      ],
      "metadata": {
        "id": "lBTy6USM2-0T"
      }
    },
    {
      "cell_type": "markdown",
      "source": [
        "#**DATA PREPROCESSING**"
      ],
      "metadata": {
        "id": "vlgv5e0M4lIt"
      }
    },
    {
      "cell_type": "code",
      "source": [
        "#creating input variables\n",
        "Y=np.log10(data['Close']).values\n",
        "X=np.log10(data[['Open','High','Low']]).values"
      ],
      "metadata": {
        "id": "ObIbUMtJ3EJR"
      },
      "execution_count": null,
      "outputs": []
    },
    {
      "cell_type": "markdown",
      "source": [
        "#TRAIN TEST SPLIT"
      ],
      "metadata": {
        "id": "1JhVwIOz3_lw"
      }
    },
    {
      "cell_type": "code",
      "source": [
        "#splitting the data into training and test data\n",
        "from sklearn.model_selection import train_test_split\n",
        "\n",
        "X_train, X_test, Y_train, Y_test = train_test_split(X,Y,test_size=0.3,random_state=0)"
      ],
      "metadata": {
        "id": "DSLeE-R0362B"
      },
      "execution_count": null,
      "outputs": []
    },
    {
      "cell_type": "code",
      "source": [
        "X_train.shape"
      ],
      "metadata": {
        "id": "2ar5B8rx7rTq"
      },
      "execution_count": null,
      "outputs": []
    },
    {
      "cell_type": "code",
      "source": [
        "X_test.shape"
      ],
      "metadata": {
        "id": "Kdbuek-_7rQ_"
      },
      "execution_count": null,
      "outputs": []
    },
    {
      "cell_type": "markdown",
      "source": [
        "#Scaling the data is very important for us so as to avoid giving more importance to features with large values. This is achieved by normalization or standardization of the data."
      ],
      "metadata": {
        "id": "WnGqHIPZ8JhY"
      }
    },
    {
      "cell_type": "code",
      "source": [
        "# Scaling the data.\n",
        "from sklearn.preprocessing import StandardScaler\n",
        "scaler = StandardScaler()\n",
        "X_train = scaler.fit_transform(X_train)\n",
        "X_test = scaler.transform(X_test)"
      ],
      "metadata": {
        "id": "m9mg4iYS7rNU"
      },
      "execution_count": null,
      "outputs": []
    },
    {
      "cell_type": "markdown",
      "source": [
        "#**LINEAR REGRESSION**"
      ],
      "metadata": {
        "id": "tL2dEVsF8cpj"
      }
    },
    {
      "cell_type": "code",
      "source": [
        "# importing LinearRegression model and the metrics\n",
        "from sklearn.linear_model import LinearRegression\n",
        "from sklearn.metrics import r2_score\n",
        "from sklearn.metrics import mean_squared_error\n",
        "from sklearn.metrics import mean_absolute_error\n"
      ],
      "metadata": {
        "id": "UOQC6BQb7p_K"
      },
      "execution_count": null,
      "outputs": []
    },
    {
      "cell_type": "code",
      "source": [
        "#initialising the model\n",
        "model=LinearRegression()"
      ],
      "metadata": {
        "id": "SQTXwKct88mF"
      },
      "execution_count": null,
      "outputs": []
    },
    {
      "cell_type": "code",
      "source": [
        "#fitting the model on training data\n",
        "model.fit(X_train,Y_train)"
      ],
      "metadata": {
        "id": "05sE_o489FpX"
      },
      "execution_count": null,
      "outputs": []
    },
    {
      "cell_type": "code",
      "source": [
        "#predicting  values on test data\n",
        "y_pred=model.predict(X_test)"
      ],
      "metadata": {
        "id": "6Jyascr89TIg"
      },
      "execution_count": null,
      "outputs": []
    },
    {
      "cell_type": "markdown",
      "source": [
        "#Model parameters"
      ],
      "metadata": {
        "id": "L9-t6jbV9lv9"
      }
    },
    {
      "cell_type": "code",
      "source": [
        "#model intercept\n",
        "model.intercept_"
      ],
      "metadata": {
        "id": "y5eIoO0p9qLQ"
      },
      "execution_count": null,
      "outputs": []
    },
    {
      "cell_type": "code",
      "source": [
        "#model coefficients\n",
        "model.coef_"
      ],
      "metadata": {
        "id": "8Hbq38UQ9xSG"
      },
      "execution_count": null,
      "outputs": []
    },
    {
      "cell_type": "markdown",
      "source": [
        "#EVALUATION"
      ],
      "metadata": {
        "id": "4nYM9dZ--DCc"
      }
    },
    {
      "cell_type": "code",
      "source": [
        "#defining mape\n",
        "def mape(actual, pred):\n",
        "    actual, pred = np.array(actual), np.array(pred)\n",
        "    return np.mean(np.abs((actual - pred) / actual)) * 100"
      ],
      "metadata": {
        "id": "YGaw7mYt_HjW"
      },
      "execution_count": null,
      "outputs": []
    },
    {
      "cell_type": "code",
      "source": [
        "#calculating performance metrics\n",
        "MAE = mean_absolute_error((Y_test), (y_pred))\n",
        "print(\"mean absolute error :\" ,MAE)\n",
        "\n",
        "MSE  = mean_squared_error((Y_test), (y_pred))\n",
        "print(\"mean squared error :\" , MSE)\n",
        "\n",
        "RMSE = np.sqrt(MSE)\n",
        "print(\"root mean squared error :\" ,RMSE)\n",
        "\n",
        "MAPE=mape(Y_test, y_pred)\n",
        "print(\"mean absolute percentage error:\" ,MAPE)\n",
        "\n",
        "\n"
      ],
      "metadata": {
        "id": "Cmht51LQ9_af"
      },
      "execution_count": null,
      "outputs": []
    },
    {
      "cell_type": "code",
      "source": [
        "#creating dataframe to store all the evaluation metrics of each model\n",
        "i=0\n",
        "metric_df=pd.DataFrame()"
      ],
      "metadata": {
        "id": "QMYYM4kYjWcl"
      },
      "execution_count": null,
      "outputs": []
    },
    {
      "cell_type": "code",
      "source": [
        "#Inserting metrics of linear regression in dataframe created above\n",
        "metric_df.loc[i,\"Model_Name\"]='Linear regression'\n",
        "metric_df.loc[i,\"MAE\"]=round(MAE,4)\n",
        "metric_df.loc[i,\"MSE\"]=round(MSE,4)\n",
        "metric_df.loc[i,\"RMSE\"]=round(RMSE,4)\n",
        "metric_df.loc[i,\"MAPE\"]=round(MAPE,4)\n",
        "\n",
        "i+=1"
      ],
      "metadata": {
        "id": "S1s0PCTejyg_"
      },
      "execution_count": null,
      "outputs": []
    },
    {
      "cell_type": "code",
      "source": [
        "#visualising actual and predicted values\n",
        "\n",
        "plt.figure(figsize=(10,5))\n",
        "plt.plot(y_pred)\n",
        "plt.plot(np.array(Y_test))\n",
        "plt.legend([\"Predicted\",\"Actual\"])\n",
        "plt.xlabel('No of Test Data')\n",
        "plt.show()"
      ],
      "metadata": {
        "id": "oeHw9pFPO9-z"
      },
      "execution_count": null,
      "outputs": []
    },
    {
      "cell_type": "markdown",
      "source": [
        "#**LASSO REGRESSION**"
      ],
      "metadata": {
        "id": "piDxpMuFPKM-"
      }
    },
    {
      "cell_type": "code",
      "source": [
        "from sklearn.linear_model import Lasso"
      ],
      "metadata": {
        "id": "LnQf49IIQtH6"
      },
      "execution_count": null,
      "outputs": []
    },
    {
      "cell_type": "code",
      "source": [
        "#fitting data\n",
        "lasso  = Lasso(alpha=0.0001 , max_iter= 3000)\n",
        "lasso.fit(X_train, Y_train)"
      ],
      "metadata": {
        "id": "yIhS21siQkOm"
      },
      "execution_count": null,
      "outputs": []
    },
    {
      "cell_type": "code",
      "source": [
        "# Printing the intercept\n",
        "lasso.intercept_"
      ],
      "metadata": {
        "id": "0-q2cXyORC0L"
      },
      "execution_count": null,
      "outputs": []
    },
    {
      "cell_type": "code",
      "source": [
        "#printing the coefficients\n",
        "lasso.coef_"
      ],
      "metadata": {
        "id": "FpKX-uCMRLpP"
      },
      "execution_count": null,
      "outputs": []
    },
    {
      "cell_type": "markdown",
      "source": [
        "#Cross Validation and hyperparameter tuning"
      ],
      "metadata": {
        "id": "nIgrMan0SjIL"
      }
    },
    {
      "cell_type": "code",
      "source": [
        "from sklearn.model_selection import GridSearchCV\n",
        "\n"
      ],
      "metadata": {
        "id": "0rAZPaTSSok-"
      },
      "execution_count": null,
      "outputs": []
    },
    {
      "cell_type": "code",
      "source": [
        "lasso_param_grid={'alpha': [1e-15,1e-13,1e-10,1e-8,1e-5,1e-4,1e-3,0.005,0.006,0.007,0.01,0.015,0.02,1e-1,1,5,10,20,30,40,44,50]}\n",
        "\n",
        "lasso_regressor = GridSearchCV(lasso, lasso_param_grid, scoring='neg_mean_squared_error', cv=5)\n",
        "lasso_regressor.fit(X_train, Y_train)\n"
      ],
      "metadata": {
        "id": "MYBBl620Vv3A"
      },
      "execution_count": null,
      "outputs": []
    },
    {
      "cell_type": "code",
      "source": [
        "#getting the best parameter\n",
        "lasso_regressor.best_params_"
      ],
      "metadata": {
        "id": "885TECsAW4fF"
      },
      "execution_count": null,
      "outputs": []
    },
    {
      "cell_type": "code",
      "source": [
        "#getting the best score\n",
        "lasso_regressor.best_score_"
      ],
      "metadata": {
        "id": "J5uLMTn2XJgP"
      },
      "execution_count": null,
      "outputs": []
    },
    {
      "cell_type": "code",
      "source": [
        "# Predicting on the test dataset.\n",
        "y_pred_lasso = lasso_regressor.predict(X_test)\n",
        "print(y_pred_lasso)"
      ],
      "metadata": {
        "id": "3GgyvWeMXV8O"
      },
      "execution_count": null,
      "outputs": []
    },
    {
      "cell_type": "code",
      "source": [
        "#evaluation metrics for checking the performance\n",
        "MAE_lasso=mean_absolute_error((Y_test), (y_pred_lasso))\n",
        "print(\"mean absolute error :\" ,MAE_lasso)\n",
        "\n",
        "MSE_lasso = mean_squared_error((Y_test), (y_pred_lasso))\n",
        "print(\"mean squared error :\" , MSE_lasso)\n",
        "\n",
        "RMSE_lasso = np.sqrt(MSE_lasso)\n",
        "print(\"root mean squared error :\" ,RMSE_lasso)\n",
        "\n",
        "MAPE_lasso=mape(Y_test, y_pred_lasso)\n",
        "print(\"mean absolute percentage error:\" ,MAPE_lasso)\n",
        "\n"
      ],
      "metadata": {
        "id": "sy5-12B3XZoA"
      },
      "execution_count": null,
      "outputs": []
    },
    {
      "cell_type": "code",
      "source": [
        "#inserting lasso regression evaluation metrics in dataframe\n",
        "metric_df.loc[i,\"Model_Name\"]='Lasso regression'\n",
        "metric_df.loc[i,\"MAE\"]=round(MAE_lasso,4)\n",
        "metric_df.loc[i,\"MSE\"]=round(MSE_lasso,4)\n",
        "metric_df.loc[i,\"RMSE\"]=round(RMSE_lasso,4)\n",
        "metric_df.loc[i,\"MAPE\"]=round(MAPE_lasso,4)\n",
        "\n",
        "\n",
        "i=i+1"
      ],
      "metadata": {
        "id": "2oGVdxt4kJnU"
      },
      "execution_count": null,
      "outputs": []
    },
    {
      "cell_type": "code",
      "source": [
        "# plotting the predicted values vs actual.\n",
        "plt.figure(figsize=(9,5))\n",
        "plt.plot(y_pred_lasso)\n",
        "plt.plot(np.array(Y_test))\n",
        "plt.legend([\"Predicted\",\"Actual\"])\n",
        "plt.ylabel(\"Price\")\n",
        "plt.title(\"Actual vs Predicted Closing price Lasso regression\")"
      ],
      "metadata": {
        "id": "7RsnD5nFaVMb"
      },
      "execution_count": null,
      "outputs": []
    },
    {
      "cell_type": "markdown",
      "source": [
        "#**RIDGE REGRESSION**"
      ],
      "metadata": {
        "id": "i405vcJIai0w"
      }
    },
    {
      "cell_type": "code",
      "source": [
        "#initialising the model\n",
        "from sklearn.linear_model import Ridge\n",
        "\n",
        "ridge=Ridge()\n",
        "ridge_param_grid={'alpha':[1e-15,1e-10,1e-8,1e-3,1e-2,1,5,10,20,30,35,40,45,50,55,100]}\n",
        "\n",
        "#cross validation\n",
        "ridge_regressor = GridSearchCV(ridge, ridge_param_grid, scoring='neg_mean_squared_error', cv=3)\n",
        "ridge_regressor.fit(X_train,Y_train)\n"
      ],
      "metadata": {
        "id": "n8wpm2JhamLc"
      },
      "execution_count": null,
      "outputs": []
    },
    {
      "cell_type": "code",
      "source": [
        "# finding the best parameter value (for alpha)\n",
        "ridge_regressor.best_params_"
      ],
      "metadata": {
        "id": "Q5FPLhSdUFkg"
      },
      "execution_count": null,
      "outputs": []
    },
    {
      "cell_type": "code",
      "source": [
        "# predicting on the test dataset now.\n",
        "y_pred_ridge = ridge_regressor.predict(X_test)\n",
        ""
      ],
      "metadata": {
        "id": "dobknJDBUM2s"
      },
      "execution_count": null,
      "outputs": []
    },
    {
      "cell_type": "code",
      "source": [
        "# evaluating performance.\n",
        "MAE_ridge = mean_absolute_error(Y_test,y_pred_ridge)\n",
        "print(f\"Mean Absolute Error : {MAE_ridge}\")\n",
        "\n",
        "MSE_ridge  = mean_squared_error(Y_test,y_pred_ridge)\n",
        "print(\"Mean squared Error :\" , MSE_ridge)\n",
        "\n",
        "RMSE_ridge = np.sqrt(MSE_ridge)\n",
        "print(\"Root Mean squared Error :\" ,RMSE_ridge)\n",
        "\n",
        "MAPE_ridge=mape(Y_test,y_pred_ridge)\n",
        "print(\"mean absolute percentage error\",MAPE_ridge)\n",
        "\n"
      ],
      "metadata": {
        "id": "jXBuSQ8rUP70"
      },
      "execution_count": null,
      "outputs": []
    },
    {
      "cell_type": "code",
      "source": [
        "#inserting ridge regression evaluation metrics in dataframe\n",
        "metric_df.loc[i,\"Model_Name\"]='Ridge regression'\n",
        "metric_df.loc[i,\"MAE\"]=round(MAE_ridge,4)\n",
        "metric_df.loc[i,\"MSE\"]=round(MSE_ridge,4)\n",
        "metric_df.loc[i,\"RMSE\"]=round(RMSE_ridge,4)\n",
        "metric_df.loc[i,\"MAPE\"]=round(MAPE_ridge,4)\n",
        "\n",
        "i=i+1"
      ],
      "metadata": {
        "id": "vYuFTB-Rk4fe"
      },
      "execution_count": null,
      "outputs": []
    },
    {
      "cell_type": "code",
      "source": [
        "# Plotting predicted and actual target variable values.\n",
        "plt.figure(figsize=(9,5))\n",
        "plt.plot(y_pred_ridge)\n",
        "plt.plot(Y_test)\n",
        "plt.legend([\"Predicted\",\"Actual\"])\n",
        "plt.ylabel(\"Price\")\n",
        "plt.title(\"Actual vs Predicted Closing price Ridge regression\")"
      ],
      "metadata": {
        "id": "mPq6VgsQVea1"
      },
      "execution_count": null,
      "outputs": []
    },
    {
      "cell_type": "markdown",
      "source": [
        "#**ELASTIC NET REGRESSION**"
      ],
      "metadata": {
        "id": "hUHqm6e-VyIt"
      }
    },
    {
      "cell_type": "code",
      "source": [
        "# importing and initializing Elastic-Net Regression.\n",
        "from sklearn.linear_model import ElasticNet\n",
        "elasticnet_model = ElasticNet(alpha=0.1, l1_ratio=0.5)\n",
        "\n",
        "# initializing parameter grid.\n",
        "elastic_net_param_grid = {'alpha': [1e-15,1e-13,1e-10,1e-8,1e-5,1e-4,1e-3,0.001,0.01,0.02,0.03,0.04,1,5,10,20,40,50,60,100],\n",
        "                          'l1_ratio':[0.1,0.2,0.3,0.4,0.5,0.6,0.7,0.8,0.9]}\n",
        "\n",
        "# cross-validation.\n",
        "elasticnet_regressor = GridSearchCV(elasticnet_model, elastic_net_param_grid, scoring='neg_mean_squared_error',cv=5)\n",
        "elasticnet_regressor.fit(X_train, Y_train)"
      ],
      "metadata": {
        "id": "SNaC_hB7V2CY"
      },
      "execution_count": null,
      "outputs": []
    },
    {
      "cell_type": "code",
      "source": [
        "# finding the best parameter\n",
        "elasticnet_regressor.best_params_\n",
        ""
      ],
      "metadata": {
        "id": "Y6eTX3LHahH8"
      },
      "execution_count": null,
      "outputs": []
    },
    {
      "cell_type": "code",
      "source": [
        "# finding the best score for the optimal parameter.\n",
        "elasticnet_regressor.best_score_"
      ],
      "metadata": {
        "id": "rR4ZVvumar7S"
      },
      "execution_count": null,
      "outputs": []
    },
    {
      "cell_type": "code",
      "source": [
        "# making the predictions on test data\n",
        "y_pred_elastic_net = elasticnet_regressor.predict(X_test)\n",
        ""
      ],
      "metadata": {
        "id": "piS3hcBlayUj"
      },
      "execution_count": null,
      "outputs": []
    },
    {
      "cell_type": "code",
      "source": [
        "#evaluation metrics (evaluation performance of the model)\n",
        "\n",
        "MAE_elastic_net = mean_absolute_error(Y_test,y_pred_elastic_net)\n",
        "print(f\"Mean Absolute Error : {MAE_elastic_net}\")\n",
        "\n",
        "MSE_elastic_net  = mean_squared_error(Y_test,y_pred_elastic_net)\n",
        "print(\"Mean squared Error :\" , MSE_elastic_net)\n",
        "\n",
        "RMSE_elastic_net = np.sqrt(MSE_elastic_net)\n",
        "print(\"Root Mean squared Error :\" ,RMSE_elastic_net)\n",
        "\n",
        "MAPE_elastic_net=mape(Y_test,y_pred_elastic_net)\n",
        "print(\"Mean absolute percentage error :\",MAPE_elastic_net)"
      ],
      "metadata": {
        "id": "jKqXcQtEbIsO"
      },
      "execution_count": null,
      "outputs": []
    },
    {
      "cell_type": "code",
      "source": [
        "#inserting elastic net regression evaluation metrics in dataframe\n",
        "metric_df.loc[i,\"Model_Name\"]='Net elastic regression'\n",
        "metric_df.loc[i,\"MAE\"]=round(MAE_elastic_net,4)\n",
        "metric_df.loc[i,\"MSE\"]=round(MSE_elastic_net,4)\n",
        "metric_df.loc[i,\"RMSE\"]=round(RMSE_elastic_net,4)\n",
        "metric_df.loc[i,\"MAPE\"]=round(MAPE_elastic_net,4)"
      ],
      "metadata": {
        "id": "EwS7EtT_lHZo"
      },
      "execution_count": null,
      "outputs": []
    },
    {
      "cell_type": "code",
      "source": [
        "# Now let us plot the actual and predicted target variables values.\n",
        "plt.figure(figsize=(9,5))\n",
        "plt.plot(y_pred_elastic_net)\n",
        "plt.plot(Y_test)\n",
        "plt.legend([\"Predicted\",\"Actual\"])\n",
        "plt.ylabel(\"Price\")\n",
        "plt.title(\"Actual vs Predicted Closing price Elastic Net regression\")"
      ],
      "metadata": {
        "id": "7C87ekGOcBDy"
      },
      "execution_count": null,
      "outputs": []
    },
    {
      "cell_type": "markdown",
      "source": [
        "#Comparing the performance of all models"
      ],
      "metadata": {
        "id": "1sxYO1aplafL"
      }
    },
    {
      "cell_type": "code",
      "source": [
        "metric_df"
      ],
      "metadata": {
        "id": "aYm9rtzPljPr"
      },
      "execution_count": null,
      "outputs": []
    },
    {
      "cell_type": "markdown",
      "source": [
        "#Linear regression model has performed better with the lowest MAPE"
      ],
      "metadata": {
        "id": "xZO-WZd9pFOs"
      }
    },
    {
      "cell_type": "markdown",
      "source": [
        "# **Conclusion**"
      ],
      "metadata": {
        "id": "gCX9965dhzqZ"
      }
    },
    {
      "cell_type": "markdown",
      "source": [
        "# * Using data visualization on our target variable, we can clearly see the impact of 2018 fraud case involving Rana Kapoor as the stock prices decline dramatically during that period.\n",
        "\n",
        "# * We implemented several models on our dataset in order to be able to predict the closing price and found that all our models are performing remarkably well and Linear Regressor model  is the best performing model.\n",
        "\n",
        "# * There is a high correlation between the dependent and independent variables. This is a signal that our dependent variable is highly dependent on our features and can be predicted accurately from them."
      ],
      "metadata": {
        "id": "Fjb1IsQkh3yE"
      }
    }
  ]
}